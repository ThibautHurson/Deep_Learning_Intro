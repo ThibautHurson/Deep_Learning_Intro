{
  "nbformat": 4,
  "nbformat_minor": 0,
  "metadata": {
    "colab": {
      "name": "DeepLearning_exercise1.ipynb",
      "provenance": [],
      "collapsed_sections": []
    },
    "kernelspec": {
      "name": "python3",
      "display_name": "Python 3"
    },
    "language_info": {
      "name": "python"
    },
    "accelerator": "GPU"
  },
  "cells": [
    {
      "cell_type": "code",
      "metadata": {
        "id": "4R9gfoRsixpI"
      },
      "source": [
        "import numpy as np\n",
        "import pandas as pd\n",
        "import tensorflow as tf\n",
        "from tensorflow import keras"
      ],
      "execution_count": null,
      "outputs": []
    },
    {
      "cell_type": "code",
      "metadata": {
        "id": "WraY8Dqimw3l"
      },
      "source": [
        "import json\n",
        "token = {\"username\":\"thibauthurson\",\"key\":\"05de7a0346d89d3d6b6819a105a5e52e\"}\n",
        "with open('/content/.kaggle/kaggle.json', 'w') as file:\n",
        "    json.dump(token, file)"
      ],
      "execution_count": null,
      "outputs": []
    },
    {
      "cell_type": "code",
      "metadata": {
        "id": "HeZNl45Pm8rx"
      },
      "source": [
        "import os, zipfile, tarfile, ipdb\n",
        "os.environ['KAGGLE_USERNAME'] = \"thibauthurson\" \n",
        "os.environ['KAGGLE_KEY'] = \"05de7a0346d89d3d6b6819a105a5e52e\""
      ],
      "execution_count": null,
      "outputs": []
    },
    {
      "cell_type": "code",
      "metadata": {
        "id": "vTWnKcsElef3"
      },
      "source": [
        "# Load the data\n",
        "df_train = pd.read_csv(\"sample_data/california_housing_train.csv\")\n",
        "df_test = pd.read_csv(\"sample_data/california_housing_test.csv\")\n",
        "\n",
        "# Drop null values\n",
        "df.dropna(inplace=True)\n",
        "# Drop categorical column as MLP cannot treat it as is\n",
        "X_train = df_train.drop(\"median_house_value\", axis=1)\n",
        "y_train = df_train[\"median_house_value\"]\n",
        "\n",
        "X_test = df_test.drop(\"median_house_value\", axis=1)\n",
        "y_test = df_test[\"median_house_value\"]\n",
        "\n",
        "# Train test split\n",
        "# from sklearn.model_selection import train_test_split\n",
        "# x_train, x_test, y_train, y_test = train_test_split(X, y, test_size=0.2)"
      ],
      "execution_count": null,
      "outputs": []
    },
    {
      "cell_type": "code",
      "metadata": {
        "colab": {
          "base_uri": "https://localhost:8080/"
        },
        "id": "yS47CoiMrDnx",
        "outputId": "2f86d6c9-118f-4dfc-aeed-03f2d77183ba"
      },
      "source": [
        "#To center and standardize\n",
        "from sklearn.preprocessing import StandardScaler\n",
        "\n",
        "scaler = StandardScaler()\n",
        "scaler.fit(X_train)\n",
        "scaler.transform(X_train)\n",
        "\n",
        "scaler.fit(X_test)\n",
        "scaler.transform(X_test)"
      ],
      "execution_count": null,
      "outputs": [
        {
          "output_type": "execute_result",
          "data": {
            "text/plain": [
              "array([[-1.23372874,  0.81463305, -0.14699983, ...,  0.13024561,\n",
              "         0.31773437,  1.51074547],\n",
              "       [ 0.64634391, -0.64593087,  1.12756514, ..., -0.57629585,\n",
              "        -0.58274291, -0.11232419],\n",
              "       [ 0.89200673, -0.87135553, -0.14699983, ...,  0.07880784,\n",
              "         0.01392592,  1.0711495 ],\n",
              "       ...,\n",
              "       [-0.05554988,  0.31212392, -1.5012251 , ..., -0.68887663,\n",
              "        -0.73875265, -0.81855768],\n",
              "       [ 1.2379401 , -0.72107242,  0.88858421, ..., -1.31680565,\n",
              "        -1.30257733, -0.2893275 ],\n",
              "       [-0.02045519, -0.57078932,  1.04790483, ..., -0.63064519,\n",
              "        -0.62927213,  2.56365089]])"
            ]
          },
          "metadata": {
            "tags": []
          },
          "execution_count": 130
        }
      ]
    },
    {
      "cell_type": "code",
      "metadata": {
        "id": "m9LcW279uor7"
      },
      "source": [
        "#Generate a model\n",
        "model = keras.Sequential([\n",
        "                          keras.layers.Dense(128, activation='relu'),\n",
        "                          keras.layers.Dropout(0.2),\n",
        "                          keras.layers.Dense(1)])\n"
      ],
      "execution_count": null,
      "outputs": []
    },
    {
      "cell_type": "code",
      "metadata": {
        "id": "TpLk6DvZxUf5"
      },
      "source": [
        "model.compile(loss=keras.losses.MeanSquaredError(),\n",
        "              optimizer=keras.optimizers.Adam(),\n",
        "              metrics=[tf.keras.metrics.MeanSquaredError()]\n",
        "              )"
      ],
      "execution_count": null,
      "outputs": []
    },
    {
      "cell_type": "code",
      "metadata": {
        "colab": {
          "base_uri": "https://localhost:8080/"
        },
        "id": "x7h5Zw_kzWwA",
        "outputId": "41c1d217-828d-4485-c362-e59a0f119df6"
      },
      "source": [
        "model.fit(X_train, y_train, batch_size=64, epochs=100)"
      ],
      "execution_count": null,
      "outputs": [
        {
          "output_type": "stream",
          "text": [
            "Epoch 1/100\n",
            "266/266 [==============================] - 1s 2ms/step - loss: 53133338416.8989 - mean_squared_error: 53133338416.8989\n",
            "Epoch 2/100\n",
            "266/266 [==============================] - 1s 2ms/step - loss: 34401268548.0749 - mean_squared_error: 34401268548.0749\n",
            "Epoch 3/100\n",
            "266/266 [==============================] - 1s 2ms/step - loss: 26795095994.9663 - mean_squared_error: 26795095994.9663\n",
            "Epoch 4/100\n",
            "266/266 [==============================] - 1s 2ms/step - loss: 26497249778.5768 - mean_squared_error: 26497249778.5768\n",
            "Epoch 5/100\n",
            "266/266 [==============================] - 1s 2ms/step - loss: 26145684959.4007 - mean_squared_error: 26145684959.4007\n",
            "Epoch 6/100\n",
            "266/266 [==============================] - 1s 2ms/step - loss: 26110979505.3783 - mean_squared_error: 26110979505.3783\n",
            "Epoch 7/100\n",
            "266/266 [==============================] - 1s 2ms/step - loss: 24951869079.4906 - mean_squared_error: 24951869079.4906\n",
            "Epoch 8/100\n",
            "266/266 [==============================] - 1s 2ms/step - loss: 24849979806.2022 - mean_squared_error: 24849979806.2022\n",
            "Epoch 9/100\n",
            "266/266 [==============================] - 1s 2ms/step - loss: 23948730107.2060 - mean_squared_error: 23948730107.2060\n",
            "Epoch 10/100\n",
            "266/266 [==============================] - 1s 2ms/step - loss: 23350182846.8015 - mean_squared_error: 23350182846.8015\n",
            "Epoch 11/100\n",
            "266/266 [==============================] - 1s 2ms/step - loss: 21250004880.7790 - mean_squared_error: 21250004880.7790\n",
            "Epoch 12/100\n",
            "266/266 [==============================] - 1s 2ms/step - loss: 21530940975.9401 - mean_squared_error: 21530940975.9401\n",
            "Epoch 13/100\n",
            "266/266 [==============================] - 1s 2ms/step - loss: 20074093901.6629 - mean_squared_error: 20074093901.6629\n",
            "Epoch 14/100\n",
            "266/266 [==============================] - 1s 2ms/step - loss: 19590108328.7491 - mean_squared_error: 19590108328.7491\n",
            "Epoch 15/100\n",
            "266/266 [==============================] - 1s 2ms/step - loss: 18247251691.8652 - mean_squared_error: 18247251691.8652\n",
            "Epoch 16/100\n",
            "266/266 [==============================] - 1s 2ms/step - loss: 17164138664.7491 - mean_squared_error: 17164138664.7491\n",
            "Epoch 17/100\n",
            "266/266 [==============================] - 1s 2ms/step - loss: 16634386194.2172 - mean_squared_error: 16634386194.2172\n",
            "Epoch 18/100\n",
            "266/266 [==============================] - 1s 2ms/step - loss: 15183287529.9476 - mean_squared_error: 15183287529.9476\n",
            "Epoch 19/100\n",
            "266/266 [==============================] - 1s 2ms/step - loss: 14935413924.9139 - mean_squared_error: 14935413924.9139\n",
            "Epoch 20/100\n",
            "266/266 [==============================] - 1s 2ms/step - loss: 14213372575.1610 - mean_squared_error: 14213372575.1610\n",
            "Epoch 21/100\n",
            "266/266 [==============================] - 1s 2ms/step - loss: 13844456704.9588 - mean_squared_error: 13844456704.9588\n",
            "Epoch 22/100\n",
            "266/266 [==============================] - 1s 2ms/step - loss: 13418762796.1049 - mean_squared_error: 13418762796.1049\n",
            "Epoch 23/100\n",
            "266/266 [==============================] - 1s 2ms/step - loss: 12894884810.3071 - mean_squared_error: 12894884810.3071\n",
            "Epoch 24/100\n",
            "266/266 [==============================] - 1s 2ms/step - loss: 12578803416.6891 - mean_squared_error: 12578803416.6891\n",
            "Epoch 25/100\n",
            "266/266 [==============================] - 1s 2ms/step - loss: 12287385036.2247 - mean_squared_error: 12287385036.2247\n",
            "Epoch 26/100\n",
            "266/266 [==============================] - 1s 2ms/step - loss: 11947208746.1873 - mean_squared_error: 11947208746.1873\n",
            "Epoch 27/100\n",
            "266/266 [==============================] - 1s 2ms/step - loss: 11924472427.3858 - mean_squared_error: 11924472427.3858\n",
            "Epoch 28/100\n",
            "266/266 [==============================] - 1s 2ms/step - loss: 12016551291.6854 - mean_squared_error: 12016551291.6854\n",
            "Epoch 29/100\n",
            "266/266 [==============================] - 1s 2ms/step - loss: 12151745796.7940 - mean_squared_error: 12151745796.7940\n",
            "Epoch 30/100\n",
            "266/266 [==============================] - 1s 2ms/step - loss: 11975616078.6217 - mean_squared_error: 11975616078.6217\n",
            "Epoch 31/100\n",
            "266/266 [==============================] - 1s 2ms/step - loss: 11915849298.4569 - mean_squared_error: 11915849298.4569\n",
            "Epoch 32/100\n",
            "266/266 [==============================] - 1s 2ms/step - loss: 11845932572.7640 - mean_squared_error: 11845932572.7640\n",
            "Epoch 33/100\n",
            "266/266 [==============================] - 1s 2ms/step - loss: 11579482825.3483 - mean_squared_error: 11579482825.3483\n",
            "Epoch 34/100\n",
            "266/266 [==============================] - 1s 2ms/step - loss: 11771455790.9813 - mean_squared_error: 11771455790.9813\n",
            "Epoch 35/100\n",
            "266/266 [==============================] - 1s 2ms/step - loss: 11612788214.4120 - mean_squared_error: 11612788214.4120\n",
            "Epoch 36/100\n",
            "266/266 [==============================] - 1s 2ms/step - loss: 11530023924.4944 - mean_squared_error: 11530023924.4944\n",
            "Epoch 37/100\n",
            "266/266 [==============================] - 1s 2ms/step - loss: 11488396502.7715 - mean_squared_error: 11488396502.7715\n",
            "Epoch 38/100\n",
            "266/266 [==============================] - 1s 2ms/step - loss: 11695914563.1161 - mean_squared_error: 11695914563.1161\n",
            "Epoch 39/100\n",
            "266/266 [==============================] - 1s 2ms/step - loss: 11495994920.2697 - mean_squared_error: 11495994920.2697\n",
            "Epoch 40/100\n",
            "266/266 [==============================] - 1s 2ms/step - loss: 11437562216.5094 - mean_squared_error: 11437562216.5094\n",
            "Epoch 41/100\n",
            "266/266 [==============================] - 1s 2ms/step - loss: 11341367031.3708 - mean_squared_error: 11341367031.3708\n",
            "Epoch 42/100\n",
            "266/266 [==============================] - 1s 2ms/step - loss: 11362537337.7678 - mean_squared_error: 11362537337.7678\n",
            "Epoch 43/100\n",
            "266/266 [==============================] - 1s 2ms/step - loss: 11328075020.4644 - mean_squared_error: 11328075020.4644\n",
            "Epoch 44/100\n",
            "266/266 [==============================] - 1s 2ms/step - loss: 11334433983.7603 - mean_squared_error: 11334433983.7603\n",
            "Epoch 45/100\n",
            "266/266 [==============================] - 1s 2ms/step - loss: 11123791461.6330 - mean_squared_error: 11123791461.6330\n",
            "Epoch 46/100\n",
            "266/266 [==============================] - 1s 2ms/step - loss: 11013399661.3034 - mean_squared_error: 11013399661.3034\n",
            "Epoch 47/100\n",
            "266/266 [==============================] - 1s 2ms/step - loss: 11100235051.1461 - mean_squared_error: 11100235051.1461\n",
            "Epoch 48/100\n",
            "266/266 [==============================] - 1s 2ms/step - loss: 10709636211.0562 - mean_squared_error: 10709636211.0562\n",
            "Epoch 49/100\n",
            "266/266 [==============================] - 1s 2ms/step - loss: 10873850646.0524 - mean_squared_error: 10873850646.0524\n",
            "Epoch 50/100\n",
            "266/266 [==============================] - 1s 2ms/step - loss: 10799773669.1536 - mean_squared_error: 10799773669.1536\n",
            "Epoch 51/100\n",
            "266/266 [==============================] - 1s 2ms/step - loss: 10589601243.5655 - mean_squared_error: 10589601243.5655\n",
            "Epoch 52/100\n",
            "266/266 [==============================] - 1s 2ms/step - loss: 10772812727.1311 - mean_squared_error: 10772812727.1311\n",
            "Epoch 53/100\n",
            "266/266 [==============================] - 1s 2ms/step - loss: 10572249337.2884 - mean_squared_error: 10572249337.2884\n",
            "Epoch 54/100\n",
            "266/266 [==============================] - 1s 2ms/step - loss: 10528495002.3670 - mean_squared_error: 10528495002.3670\n",
            "Epoch 55/100\n",
            "266/266 [==============================] - 1s 2ms/step - loss: 10578799359.0412 - mean_squared_error: 10578799359.0412\n",
            "Epoch 56/100\n",
            "266/266 [==============================] - 1s 2ms/step - loss: 10315511953.7378 - mean_squared_error: 10315511953.7378\n",
            "Epoch 57/100\n",
            "266/266 [==============================] - 1s 2ms/step - loss: 10418353403.2060 - mean_squared_error: 10418353403.2060\n",
            "Epoch 58/100\n",
            "266/266 [==============================] - 1s 2ms/step - loss: 10452313180.0449 - mean_squared_error: 10452313180.0449\n",
            "Epoch 59/100\n",
            "266/266 [==============================] - 1s 2ms/step - loss: 10321315402.7865 - mean_squared_error: 10321315402.7865\n",
            "Epoch 60/100\n",
            "266/266 [==============================] - 1s 2ms/step - loss: 10466728584.1498 - mean_squared_error: 10466728584.1498\n",
            "Epoch 61/100\n",
            "266/266 [==============================] - 1s 2ms/step - loss: 10204991507.1760 - mean_squared_error: 10204991507.1760\n",
            "Epoch 62/100\n",
            "266/266 [==============================] - 1s 2ms/step - loss: 10083052072.2697 - mean_squared_error: 10083052072.2697\n",
            "Epoch 63/100\n",
            "266/266 [==============================] - 1s 2ms/step - loss: 10342466026.9064 - mean_squared_error: 10342466026.9064\n",
            "Epoch 64/100\n",
            "266/266 [==============================] - 1s 2ms/step - loss: 10014324417.6779 - mean_squared_error: 10014324417.6779\n",
            "Epoch 65/100\n",
            "266/266 [==============================] - 1s 2ms/step - loss: 10072768130.3970 - mean_squared_error: 10072768130.3970\n",
            "Epoch 66/100\n",
            "266/266 [==============================] - 1s 2ms/step - loss: 10051534004.2547 - mean_squared_error: 10051534004.2547\n",
            "Epoch 67/100\n",
            "266/266 [==============================] - 1s 2ms/step - loss: 9745137965.0637 - mean_squared_error: 9745137965.0637\n",
            "Epoch 68/100\n",
            "266/266 [==============================] - 1s 2ms/step - loss: 10174243832.3296 - mean_squared_error: 10174243832.3296\n",
            "Epoch 69/100\n",
            "266/266 [==============================] - 1s 2ms/step - loss: 9749278884.9139 - mean_squared_error: 9749278884.9139\n",
            "Epoch 70/100\n",
            "266/266 [==============================] - 1s 2ms/step - loss: 9912801387.3858 - mean_squared_error: 9912801387.3858\n",
            "Epoch 71/100\n",
            "266/266 [==============================] - 1s 2ms/step - loss: 9909061662.6816 - mean_squared_error: 9909061662.6816\n",
            "Epoch 72/100\n",
            "266/266 [==============================] - 1s 2ms/step - loss: 9910552319.0412 - mean_squared_error: 9910552319.0412\n",
            "Epoch 73/100\n",
            "266/266 [==============================] - 1s 2ms/step - loss: 9955223191.4906 - mean_squared_error: 9955223191.4906\n",
            "Epoch 74/100\n",
            "266/266 [==============================] - 1s 2ms/step - loss: 9714554471.5506 - mean_squared_error: 9714554471.5506\n",
            "Epoch 75/100\n",
            "266/266 [==============================] - 1s 2ms/step - loss: 9757577576.5094 - mean_squared_error: 9757577576.5094\n",
            "Epoch 76/100\n",
            "266/266 [==============================] - 1s 2ms/step - loss: 9777009694.6816 - mean_squared_error: 9777009694.6816\n",
            "Epoch 77/100\n",
            "266/266 [==============================] - 1s 2ms/step - loss: 9771819575.6105 - mean_squared_error: 9771819575.6105\n",
            "Epoch 78/100\n",
            "266/266 [==============================] - 1s 2ms/step - loss: 9726352251.6854 - mean_squared_error: 9726352251.6854\n",
            "Epoch 79/100\n",
            "266/266 [==============================] - 1s 2ms/step - loss: 9662545080.0899 - mean_squared_error: 9662545080.0899\n",
            "Epoch 80/100\n",
            "266/266 [==============================] - 1s 2ms/step - loss: 9602341404.7640 - mean_squared_error: 9602341404.7640\n",
            "Epoch 81/100\n",
            "266/266 [==============================] - 1s 2ms/step - loss: 9604818660.1948 - mean_squared_error: 9604818660.1948\n",
            "Epoch 82/100\n",
            "266/266 [==============================] - 1s 2ms/step - loss: 9404529754.1273 - mean_squared_error: 9404529754.1273\n",
            "Epoch 83/100\n",
            "266/266 [==============================] - 1s 2ms/step - loss: 9462439757.6629 - mean_squared_error: 9462439757.6629\n",
            "Epoch 84/100\n",
            "266/266 [==============================] - 1s 2ms/step - loss: 9533491683.2360 - mean_squared_error: 9533491683.2360\n",
            "Epoch 85/100\n",
            "266/266 [==============================] - 1s 2ms/step - loss: 9363173002.0674 - mean_squared_error: 9363173002.0674\n",
            "Epoch 86/100\n",
            "266/266 [==============================] - 1s 2ms/step - loss: 9568859297.0787 - mean_squared_error: 9568859297.0787\n",
            "Epoch 87/100\n",
            "266/266 [==============================] - 1s 2ms/step - loss: 9482775210.6667 - mean_squared_error: 9482775210.6667\n",
            "Epoch 88/100\n",
            "266/266 [==============================] - 1s 2ms/step - loss: 9152077229.5431 - mean_squared_error: 9152077229.5431\n",
            "Epoch 89/100\n",
            "266/266 [==============================] - 1s 2ms/step - loss: 9260719021.5431 - mean_squared_error: 9260719021.5431\n",
            "Epoch 90/100\n",
            "266/266 [==============================] - 1s 2ms/step - loss: 9186399795.7753 - mean_squared_error: 9186399795.7753\n",
            "Epoch 91/100\n",
            "266/266 [==============================] - 1s 2ms/step - loss: 9256621780.8539 - mean_squared_error: 9256621780.8539\n",
            "Epoch 92/100\n",
            "266/266 [==============================] - 1s 2ms/step - loss: 9396855159.8502 - mean_squared_error: 9396855159.8502\n",
            "Epoch 93/100\n",
            "266/266 [==============================] - 1s 2ms/step - loss: 9211247851.8652 - mean_squared_error: 9211247851.8652\n",
            "Epoch 94/100\n",
            "266/266 [==============================] - 1s 2ms/step - loss: 9208873531.4457 - mean_squared_error: 9208873531.4457\n",
            "Epoch 95/100\n",
            "266/266 [==============================] - 1s 2ms/step - loss: 9212974927.5805 - mean_squared_error: 9212974927.5805\n",
            "Epoch 96/100\n",
            "266/266 [==============================] - 1s 2ms/step - loss: 9088849500.0449 - mean_squared_error: 9088849500.0449\n",
            "Epoch 97/100\n",
            "266/266 [==============================] - 1s 2ms/step - loss: 9231770635.5056 - mean_squared_error: 9231770635.5056\n",
            "Epoch 98/100\n",
            "266/266 [==============================] - 1s 2ms/step - loss: 9192236856.5693 - mean_squared_error: 9192236856.5693\n",
            "Epoch 99/100\n",
            "266/266 [==============================] - 1s 2ms/step - loss: 8951819873.7978 - mean_squared_error: 8951819873.7978\n",
            "Epoch 100/100\n",
            "266/266 [==============================] - 1s 2ms/step - loss: 8929601982.8015 - mean_squared_error: 8929601982.8015\n"
          ],
          "name": "stdout"
        },
        {
          "output_type": "execute_result",
          "data": {
            "text/plain": [
              "<tensorflow.python.keras.callbacks.History at 0x7f788ba2e5d0>"
            ]
          },
          "metadata": {
            "tags": []
          },
          "execution_count": 133
        }
      ]
    },
    {
      "cell_type": "code",
      "metadata": {
        "colab": {
          "base_uri": "https://localhost:8080/"
        },
        "id": "qJHNk_h0238m",
        "outputId": "197c5e56-2952-4a32-a995-fe2e499a84a6"
      },
      "source": [
        "model.evaluate(X_test, y_test)"
      ],
      "execution_count": null,
      "outputs": [
        {
          "output_type": "stream",
          "text": [
            "94/94 [==============================] - 0s 1ms/step - loss: 8393990656.0000 - mean_squared_error: 8393990656.0000\n"
          ],
          "name": "stdout"
        },
        {
          "output_type": "execute_result",
          "data": {
            "text/plain": [
              "[8393990656.0, 8393990656.0]"
            ]
          },
          "metadata": {
            "tags": []
          },
          "execution_count": 134
        }
      ]
    },
    {
      "cell_type": "code",
      "metadata": {
        "colab": {
          "base_uri": "https://localhost:8080/"
        },
        "id": "265x_GWP-s5P",
        "outputId": "1aac138b-76dd-48c8-e6df-a13fb1f0ac67"
      },
      "source": [
        "print(\"Generate predictions for 3 samples\")\n",
        "print('predictions:',model.predict(X_test)[:3])\n",
        "print('real data:', y_test[:3])\n"
      ],
      "execution_count": null,
      "outputs": [
        {
          "output_type": "stream",
          "text": [
            "Generate predictions for 3 samples\n",
            "predictions: [[307470.72]\n",
            " [211201.48]\n",
            " [297360.06]]\n",
            "real data: 0    344700.0\n",
            "1    176500.0\n",
            "2    270500.0\n",
            "Name: median_house_value, dtype: float64\n"
          ],
          "name": "stdout"
        }
      ]
    }
  ]
}